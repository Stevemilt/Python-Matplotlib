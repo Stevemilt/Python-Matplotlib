{
 "cells": [
  {
   "cell_type": "markdown",
   "metadata": {},
   "source": [
    "## Observations\n",
    "\n",
    "1.Capomulin outperforms the other drugs as well as the placebo in terms of tumor volume, number of metastatic sites, and survival rate.\n",
    "\n",
    "2.The Drug regimen of Capomulin was effective in reducing the tumor volume in mice over a 45 day period. It would be interesting to continue the study past 45 days to see if the tumor would be completely healed.\n",
    "\n",
    "3.Mouse weight correlated strongly (R-squared of 0.84) with average tumor volume.\n",
    "\n",
    "\n"
   ]
  },
  {
   "cell_type": "code",
   "execution_count": 922,
   "metadata": {},
   "outputs": [],
   "source": [
    "import matplotlib.pyplot as plt\n",
    "import pandas as pd\n",
    "import scipy.stats as st\n",
    "import numpy as np\n",
    "from scipy.stats import sem\n",
    "from scipy.stats import linregress"
   ]
  },
  {
   "cell_type": "code",
   "execution_count": 923,
   "metadata": {},
   "outputs": [
    {
     "data": {
      "text/html": [
       "<div>\n",
       "<style scoped>\n",
       "    .dataframe tbody tr th:only-of-type {\n",
       "        vertical-align: middle;\n",
       "    }\n",
       "\n",
       "    .dataframe tbody tr th {\n",
       "        vertical-align: top;\n",
       "    }\n",
       "\n",
       "    .dataframe thead th {\n",
       "        text-align: right;\n",
       "    }\n",
       "</style>\n",
       "<table border=\"1\" class=\"dataframe\">\n",
       "  <thead>\n",
       "    <tr style=\"text-align: right;\">\n",
       "      <th></th>\n",
       "      <th>Mouse ID</th>\n",
       "      <th>Drug Regimen</th>\n",
       "      <th>Sex</th>\n",
       "      <th>Age_months</th>\n",
       "      <th>Weight (g)</th>\n",
       "      <th>Timepoint</th>\n",
       "      <th>Tumor Volume (mm3)</th>\n",
       "      <th>Metastatic Sites</th>\n",
       "    </tr>\n",
       "  </thead>\n",
       "  <tbody>\n",
       "    <tr>\n",
       "      <th>0</th>\n",
       "      <td>k403</td>\n",
       "      <td>Ramicane</td>\n",
       "      <td>Male</td>\n",
       "      <td>21</td>\n",
       "      <td>16</td>\n",
       "      <td>0</td>\n",
       "      <td>45.000000</td>\n",
       "      <td>0</td>\n",
       "    </tr>\n",
       "    <tr>\n",
       "      <th>1</th>\n",
       "      <td>k403</td>\n",
       "      <td>Ramicane</td>\n",
       "      <td>Male</td>\n",
       "      <td>21</td>\n",
       "      <td>16</td>\n",
       "      <td>5</td>\n",
       "      <td>38.825898</td>\n",
       "      <td>0</td>\n",
       "    </tr>\n",
       "    <tr>\n",
       "      <th>2</th>\n",
       "      <td>k403</td>\n",
       "      <td>Ramicane</td>\n",
       "      <td>Male</td>\n",
       "      <td>21</td>\n",
       "      <td>16</td>\n",
       "      <td>10</td>\n",
       "      <td>35.014271</td>\n",
       "      <td>1</td>\n",
       "    </tr>\n",
       "    <tr>\n",
       "      <th>3</th>\n",
       "      <td>k403</td>\n",
       "      <td>Ramicane</td>\n",
       "      <td>Male</td>\n",
       "      <td>21</td>\n",
       "      <td>16</td>\n",
       "      <td>15</td>\n",
       "      <td>34.223992</td>\n",
       "      <td>1</td>\n",
       "    </tr>\n",
       "    <tr>\n",
       "      <th>4</th>\n",
       "      <td>k403</td>\n",
       "      <td>Ramicane</td>\n",
       "      <td>Male</td>\n",
       "      <td>21</td>\n",
       "      <td>16</td>\n",
       "      <td>20</td>\n",
       "      <td>32.997729</td>\n",
       "      <td>1</td>\n",
       "    </tr>\n",
       "  </tbody>\n",
       "</table>\n",
       "</div>"
      ],
      "text/plain": [
       "  Mouse ID Drug Regimen   Sex  Age_months  Weight (g)  Timepoint  \\\n",
       "0     k403     Ramicane  Male          21          16          0   \n",
       "1     k403     Ramicane  Male          21          16          5   \n",
       "2     k403     Ramicane  Male          21          16         10   \n",
       "3     k403     Ramicane  Male          21          16         15   \n",
       "4     k403     Ramicane  Male          21          16         20   \n",
       "\n",
       "   Tumor Volume (mm3)  Metastatic Sites  \n",
       "0           45.000000                 0  \n",
       "1           38.825898                 0  \n",
       "2           35.014271                 1  \n",
       "3           34.223992                 1  \n",
       "4           32.997729                 1  "
      ]
     },
     "execution_count": 923,
     "metadata": {},
     "output_type": "execute_result"
    }
   ],
   "source": [
    "# Read the mouse data and the study results\n",
    "mouse_metadata = pd.read_csv(\"mouse_metadata.csv\")\n",
    "study_results = pd.read_csv(\"study_results.csv\")\n",
    "\n",
    "# Combine the data into a single dataset\n",
    "\n",
    "data_merge = pd.merge(mouse_metadata,study_results, how=\"outer\", on=\"Mouse ID\")\n",
    "data_merge.head()\n"
   ]
  },
  {
   "cell_type": "code",
   "execution_count": 924,
   "metadata": {},
   "outputs": [
    {
     "data": {
      "text/plain": [
       "249"
      ]
     },
     "execution_count": 924,
     "metadata": {},
     "output_type": "execute_result"
    }
   ],
   "source": [
    "# Checking the number of mice.\n",
    "data_merge[\"Mouse ID\"].nunique()"
   ]
  },
  {
   "cell_type": "code",
   "execution_count": 925,
   "metadata": {
    "scrolled": true
   },
   "outputs": [
    {
     "data": {
      "text/html": [
       "<div>\n",
       "<style scoped>\n",
       "    .dataframe tbody tr th:only-of-type {\n",
       "        vertical-align: middle;\n",
       "    }\n",
       "\n",
       "    .dataframe tbody tr th {\n",
       "        vertical-align: top;\n",
       "    }\n",
       "\n",
       "    .dataframe thead th {\n",
       "        text-align: right;\n",
       "    }\n",
       "</style>\n",
       "<table border=\"1\" class=\"dataframe\">\n",
       "  <thead>\n",
       "    <tr style=\"text-align: right;\">\n",
       "      <th></th>\n",
       "      <th>Mouse ID</th>\n",
       "      <th>Drug Regimen</th>\n",
       "      <th>Sex</th>\n",
       "      <th>Age_months</th>\n",
       "      <th>Weight (g)</th>\n",
       "      <th>Timepoint</th>\n",
       "      <th>Tumor Volume (mm3)</th>\n",
       "      <th>Metastatic Sites</th>\n",
       "    </tr>\n",
       "  </thead>\n",
       "  <tbody>\n",
       "    <tr>\n",
       "      <th>909</th>\n",
       "      <td>g989</td>\n",
       "      <td>Propriva</td>\n",
       "      <td>Female</td>\n",
       "      <td>21</td>\n",
       "      <td>26</td>\n",
       "      <td>0</td>\n",
       "      <td>45.000000</td>\n",
       "      <td>0</td>\n",
       "    </tr>\n",
       "    <tr>\n",
       "      <th>911</th>\n",
       "      <td>g989</td>\n",
       "      <td>Propriva</td>\n",
       "      <td>Female</td>\n",
       "      <td>21</td>\n",
       "      <td>26</td>\n",
       "      <td>5</td>\n",
       "      <td>47.570392</td>\n",
       "      <td>0</td>\n",
       "    </tr>\n",
       "    <tr>\n",
       "      <th>913</th>\n",
       "      <td>g989</td>\n",
       "      <td>Propriva</td>\n",
       "      <td>Female</td>\n",
       "      <td>21</td>\n",
       "      <td>26</td>\n",
       "      <td>10</td>\n",
       "      <td>49.880528</td>\n",
       "      <td>0</td>\n",
       "    </tr>\n",
       "    <tr>\n",
       "      <th>915</th>\n",
       "      <td>g989</td>\n",
       "      <td>Propriva</td>\n",
       "      <td>Female</td>\n",
       "      <td>21</td>\n",
       "      <td>26</td>\n",
       "      <td>15</td>\n",
       "      <td>53.442020</td>\n",
       "      <td>0</td>\n",
       "    </tr>\n",
       "    <tr>\n",
       "      <th>917</th>\n",
       "      <td>g989</td>\n",
       "      <td>Propriva</td>\n",
       "      <td>Female</td>\n",
       "      <td>21</td>\n",
       "      <td>26</td>\n",
       "      <td>20</td>\n",
       "      <td>54.657650</td>\n",
       "      <td>1</td>\n",
       "    </tr>\n",
       "  </tbody>\n",
       "</table>\n",
       "</div>"
      ],
      "text/plain": [
       "    Mouse ID Drug Regimen     Sex  Age_months  Weight (g)  Timepoint  \\\n",
       "909     g989     Propriva  Female          21          26          0   \n",
       "911     g989     Propriva  Female          21          26          5   \n",
       "913     g989     Propriva  Female          21          26         10   \n",
       "915     g989     Propriva  Female          21          26         15   \n",
       "917     g989     Propriva  Female          21          26         20   \n",
       "\n",
       "     Tumor Volume (mm3)  Metastatic Sites  \n",
       "909           45.000000                 0  \n",
       "911           47.570392                 0  \n",
       "913           49.880528                 0  \n",
       "915           53.442020                 0  \n",
       "917           54.657650                 1  "
      ]
     },
     "execution_count": 925,
     "metadata": {},
     "output_type": "execute_result"
    }
   ],
   "source": [
    "# Getting the duplicate mice by ID number that shows up for Mouse ID and Timepoint. \n",
    "duplicate_MouseID = data_merge[data_merge.duplicated([\"Mouse ID\", \"Timepoint\"])]\n",
    "duplicate_MouseID"
   ]
  },
  {
   "cell_type": "code",
   "execution_count": 926,
   "metadata": {},
   "outputs": [],
   "source": [
    "# Create a clean DataFrame by dropping the duplicate mouse by its ID.\n",
    "data_merge.drop([909,911,913,915,917],0,inplace=True)"
   ]
  },
  {
   "cell_type": "code",
   "execution_count": 927,
   "metadata": {},
   "outputs": [
    {
     "data": {
      "text/plain": [
       "249"
      ]
     },
     "execution_count": 927,
     "metadata": {},
     "output_type": "execute_result"
    }
   ],
   "source": [
    "# Checking the number of mice in the clean DataFrame.\n",
    "data_merge[\"Mouse ID\"].nunique()"
   ]
  },
  {
   "cell_type": "code",
   "execution_count": 928,
   "metadata": {},
   "outputs": [
    {
     "data": {
      "text/html": [
       "<style  type=\"text/css\" >\n",
       "    #T_78e83b7c_0acc_11eb_891c_a4d18cdfdb06 th {\n",
       "          border: thin solid;\n",
       "          text-align: left;\n",
       "    }#T_78e83b7c_0acc_11eb_891c_a4d18cdfdb06row0_col0,#T_78e83b7c_0acc_11eb_891c_a4d18cdfdb06row0_col1,#T_78e83b7c_0acc_11eb_891c_a4d18cdfdb06row0_col2,#T_78e83b7c_0acc_11eb_891c_a4d18cdfdb06row0_col3,#T_78e83b7c_0acc_11eb_891c_a4d18cdfdb06row0_col4,#T_78e83b7c_0acc_11eb_891c_a4d18cdfdb06row1_col0,#T_78e83b7c_0acc_11eb_891c_a4d18cdfdb06row1_col1,#T_78e83b7c_0acc_11eb_891c_a4d18cdfdb06row1_col2,#T_78e83b7c_0acc_11eb_891c_a4d18cdfdb06row1_col3,#T_78e83b7c_0acc_11eb_891c_a4d18cdfdb06row1_col4,#T_78e83b7c_0acc_11eb_891c_a4d18cdfdb06row2_col0,#T_78e83b7c_0acc_11eb_891c_a4d18cdfdb06row2_col1,#T_78e83b7c_0acc_11eb_891c_a4d18cdfdb06row2_col2,#T_78e83b7c_0acc_11eb_891c_a4d18cdfdb06row2_col3,#T_78e83b7c_0acc_11eb_891c_a4d18cdfdb06row2_col4,#T_78e83b7c_0acc_11eb_891c_a4d18cdfdb06row3_col0,#T_78e83b7c_0acc_11eb_891c_a4d18cdfdb06row3_col1,#T_78e83b7c_0acc_11eb_891c_a4d18cdfdb06row3_col2,#T_78e83b7c_0acc_11eb_891c_a4d18cdfdb06row3_col3,#T_78e83b7c_0acc_11eb_891c_a4d18cdfdb06row3_col4,#T_78e83b7c_0acc_11eb_891c_a4d18cdfdb06row4_col0,#T_78e83b7c_0acc_11eb_891c_a4d18cdfdb06row4_col1,#T_78e83b7c_0acc_11eb_891c_a4d18cdfdb06row4_col2,#T_78e83b7c_0acc_11eb_891c_a4d18cdfdb06row4_col3,#T_78e83b7c_0acc_11eb_891c_a4d18cdfdb06row4_col4,#T_78e83b7c_0acc_11eb_891c_a4d18cdfdb06row5_col0,#T_78e83b7c_0acc_11eb_891c_a4d18cdfdb06row5_col1,#T_78e83b7c_0acc_11eb_891c_a4d18cdfdb06row5_col2,#T_78e83b7c_0acc_11eb_891c_a4d18cdfdb06row5_col3,#T_78e83b7c_0acc_11eb_891c_a4d18cdfdb06row5_col4,#T_78e83b7c_0acc_11eb_891c_a4d18cdfdb06row6_col0,#T_78e83b7c_0acc_11eb_891c_a4d18cdfdb06row6_col1,#T_78e83b7c_0acc_11eb_891c_a4d18cdfdb06row6_col2,#T_78e83b7c_0acc_11eb_891c_a4d18cdfdb06row6_col3,#T_78e83b7c_0acc_11eb_891c_a4d18cdfdb06row6_col4,#T_78e83b7c_0acc_11eb_891c_a4d18cdfdb06row7_col0,#T_78e83b7c_0acc_11eb_891c_a4d18cdfdb06row7_col1,#T_78e83b7c_0acc_11eb_891c_a4d18cdfdb06row7_col2,#T_78e83b7c_0acc_11eb_891c_a4d18cdfdb06row7_col3,#T_78e83b7c_0acc_11eb_891c_a4d18cdfdb06row7_col4,#T_78e83b7c_0acc_11eb_891c_a4d18cdfdb06row8_col0,#T_78e83b7c_0acc_11eb_891c_a4d18cdfdb06row8_col1,#T_78e83b7c_0acc_11eb_891c_a4d18cdfdb06row8_col2,#T_78e83b7c_0acc_11eb_891c_a4d18cdfdb06row8_col3,#T_78e83b7c_0acc_11eb_891c_a4d18cdfdb06row8_col4,#T_78e83b7c_0acc_11eb_891c_a4d18cdfdb06row9_col0,#T_78e83b7c_0acc_11eb_891c_a4d18cdfdb06row9_col1,#T_78e83b7c_0acc_11eb_891c_a4d18cdfdb06row9_col2,#T_78e83b7c_0acc_11eb_891c_a4d18cdfdb06row9_col3,#T_78e83b7c_0acc_11eb_891c_a4d18cdfdb06row9_col4{\n",
       "            text-align:  left;\n",
       "            border-color:  Black;\n",
       "            border-width:  thin;\n",
       "            border-style:  solid;\n",
       "        }</style><table id=\"T_78e83b7c_0acc_11eb_891c_a4d18cdfdb06\" ><thead>    <tr>        <th class=\"blank level0\" ></th>        <th class=\"col_heading level0 col0\" >Mean</th>        <th class=\"col_heading level0 col1\" >Median</th>        <th class=\"col_heading level0 col2\" >Variance</th>        <th class=\"col_heading level0 col3\" >Standard Deviation</th>        <th class=\"col_heading level0 col4\" >SEM</th>    </tr>    <tr>        <th class=\"index_name level0\" >Drug Regimen</th>        <th class=\"blank\" ></th>        <th class=\"blank\" ></th>        <th class=\"blank\" ></th>        <th class=\"blank\" ></th>        <th class=\"blank\" ></th>    </tr></thead><tbody>\n",
       "                <tr>\n",
       "                        <th id=\"T_78e83b7c_0acc_11eb_891c_a4d18cdfdb06level0_row0\" class=\"row_heading level0 row0\" >Capomulin</th>\n",
       "                        <td id=\"T_78e83b7c_0acc_11eb_891c_a4d18cdfdb06row0_col0\" class=\"data row0 col0\" >40.675741</td>\n",
       "                        <td id=\"T_78e83b7c_0acc_11eb_891c_a4d18cdfdb06row0_col1\" class=\"data row0 col1\" >41.557809</td>\n",
       "                        <td id=\"T_78e83b7c_0acc_11eb_891c_a4d18cdfdb06row0_col2\" class=\"data row0 col2\" >24.947764</td>\n",
       "                        <td id=\"T_78e83b7c_0acc_11eb_891c_a4d18cdfdb06row0_col3\" class=\"data row0 col3\" >4.994774</td>\n",
       "                        <td id=\"T_78e83b7c_0acc_11eb_891c_a4d18cdfdb06row0_col4\" class=\"data row0 col4\" >0.329346</td>\n",
       "            </tr>\n",
       "            <tr>\n",
       "                        <th id=\"T_78e83b7c_0acc_11eb_891c_a4d18cdfdb06level0_row1\" class=\"row_heading level0 row1\" >Ceftamin</th>\n",
       "                        <td id=\"T_78e83b7c_0acc_11eb_891c_a4d18cdfdb06row1_col0\" class=\"data row1 col0\" >52.591172</td>\n",
       "                        <td id=\"T_78e83b7c_0acc_11eb_891c_a4d18cdfdb06row1_col1\" class=\"data row1 col1\" >51.776157</td>\n",
       "                        <td id=\"T_78e83b7c_0acc_11eb_891c_a4d18cdfdb06row1_col2\" class=\"data row1 col2\" >39.290177</td>\n",
       "                        <td id=\"T_78e83b7c_0acc_11eb_891c_a4d18cdfdb06row1_col3\" class=\"data row1 col3\" >6.268188</td>\n",
       "                        <td id=\"T_78e83b7c_0acc_11eb_891c_a4d18cdfdb06row1_col4\" class=\"data row1 col4\" >0.469821</td>\n",
       "            </tr>\n",
       "            <tr>\n",
       "                        <th id=\"T_78e83b7c_0acc_11eb_891c_a4d18cdfdb06level0_row2\" class=\"row_heading level0 row2\" >Infubinol</th>\n",
       "                        <td id=\"T_78e83b7c_0acc_11eb_891c_a4d18cdfdb06row2_col0\" class=\"data row2 col0\" >52.884795</td>\n",
       "                        <td id=\"T_78e83b7c_0acc_11eb_891c_a4d18cdfdb06row2_col1\" class=\"data row2 col1\" >51.820584</td>\n",
       "                        <td id=\"T_78e83b7c_0acc_11eb_891c_a4d18cdfdb06row2_col2\" class=\"data row2 col2\" >43.128684</td>\n",
       "                        <td id=\"T_78e83b7c_0acc_11eb_891c_a4d18cdfdb06row2_col3\" class=\"data row2 col3\" >6.567243</td>\n",
       "                        <td id=\"T_78e83b7c_0acc_11eb_891c_a4d18cdfdb06row2_col4\" class=\"data row2 col4\" >0.492236</td>\n",
       "            </tr>\n",
       "            <tr>\n",
       "                        <th id=\"T_78e83b7c_0acc_11eb_891c_a4d18cdfdb06level0_row3\" class=\"row_heading level0 row3\" >Ketapril</th>\n",
       "                        <td id=\"T_78e83b7c_0acc_11eb_891c_a4d18cdfdb06row3_col0\" class=\"data row3 col0\" >55.235638</td>\n",
       "                        <td id=\"T_78e83b7c_0acc_11eb_891c_a4d18cdfdb06row3_col1\" class=\"data row3 col1\" >53.698743</td>\n",
       "                        <td id=\"T_78e83b7c_0acc_11eb_891c_a4d18cdfdb06row3_col2\" class=\"data row3 col2\" >68.553577</td>\n",
       "                        <td id=\"T_78e83b7c_0acc_11eb_891c_a4d18cdfdb06row3_col3\" class=\"data row3 col3\" >8.279709</td>\n",
       "                        <td id=\"T_78e83b7c_0acc_11eb_891c_a4d18cdfdb06row3_col4\" class=\"data row3 col4\" >0.603860</td>\n",
       "            </tr>\n",
       "            <tr>\n",
       "                        <th id=\"T_78e83b7c_0acc_11eb_891c_a4d18cdfdb06level0_row4\" class=\"row_heading level0 row4\" >Naftisol</th>\n",
       "                        <td id=\"T_78e83b7c_0acc_11eb_891c_a4d18cdfdb06row4_col0\" class=\"data row4 col0\" >54.331565</td>\n",
       "                        <td id=\"T_78e83b7c_0acc_11eb_891c_a4d18cdfdb06row4_col1\" class=\"data row4 col1\" >52.509285</td>\n",
       "                        <td id=\"T_78e83b7c_0acc_11eb_891c_a4d18cdfdb06row4_col2\" class=\"data row4 col2\" >66.173479</td>\n",
       "                        <td id=\"T_78e83b7c_0acc_11eb_891c_a4d18cdfdb06row4_col3\" class=\"data row4 col3\" >8.134708</td>\n",
       "                        <td id=\"T_78e83b7c_0acc_11eb_891c_a4d18cdfdb06row4_col4\" class=\"data row4 col4\" >0.596466</td>\n",
       "            </tr>\n",
       "            <tr>\n",
       "                        <th id=\"T_78e83b7c_0acc_11eb_891c_a4d18cdfdb06level0_row5\" class=\"row_heading level0 row5\" >Placebo</th>\n",
       "                        <td id=\"T_78e83b7c_0acc_11eb_891c_a4d18cdfdb06row5_col0\" class=\"data row5 col0\" >54.033581</td>\n",
       "                        <td id=\"T_78e83b7c_0acc_11eb_891c_a4d18cdfdb06row5_col1\" class=\"data row5 col1\" >52.288934</td>\n",
       "                        <td id=\"T_78e83b7c_0acc_11eb_891c_a4d18cdfdb06row5_col2\" class=\"data row5 col2\" >61.168083</td>\n",
       "                        <td id=\"T_78e83b7c_0acc_11eb_891c_a4d18cdfdb06row5_col3\" class=\"data row5 col3\" >7.821003</td>\n",
       "                        <td id=\"T_78e83b7c_0acc_11eb_891c_a4d18cdfdb06row5_col4\" class=\"data row5 col4\" >0.581331</td>\n",
       "            </tr>\n",
       "            <tr>\n",
       "                        <th id=\"T_78e83b7c_0acc_11eb_891c_a4d18cdfdb06level0_row6\" class=\"row_heading level0 row6\" >Propriva</th>\n",
       "                        <td id=\"T_78e83b7c_0acc_11eb_891c_a4d18cdfdb06row6_col0\" class=\"data row6 col0\" >52.393463</td>\n",
       "                        <td id=\"T_78e83b7c_0acc_11eb_891c_a4d18cdfdb06row6_col1\" class=\"data row6 col1\" >50.909965</td>\n",
       "                        <td id=\"T_78e83b7c_0acc_11eb_891c_a4d18cdfdb06row6_col2\" class=\"data row6 col2\" >43.138803</td>\n",
       "                        <td id=\"T_78e83b7c_0acc_11eb_891c_a4d18cdfdb06row6_col3\" class=\"data row6 col3\" >6.568014</td>\n",
       "                        <td id=\"T_78e83b7c_0acc_11eb_891c_a4d18cdfdb06row6_col4\" class=\"data row6 col4\" >0.525862</td>\n",
       "            </tr>\n",
       "            <tr>\n",
       "                        <th id=\"T_78e83b7c_0acc_11eb_891c_a4d18cdfdb06level0_row7\" class=\"row_heading level0 row7\" >Ramicane</th>\n",
       "                        <td id=\"T_78e83b7c_0acc_11eb_891c_a4d18cdfdb06row7_col0\" class=\"data row7 col0\" >40.216745</td>\n",
       "                        <td id=\"T_78e83b7c_0acc_11eb_891c_a4d18cdfdb06row7_col1\" class=\"data row7 col1\" >40.673236</td>\n",
       "                        <td id=\"T_78e83b7c_0acc_11eb_891c_a4d18cdfdb06row7_col2\" class=\"data row7 col2\" >23.486704</td>\n",
       "                        <td id=\"T_78e83b7c_0acc_11eb_891c_a4d18cdfdb06row7_col3\" class=\"data row7 col3\" >4.846308</td>\n",
       "                        <td id=\"T_78e83b7c_0acc_11eb_891c_a4d18cdfdb06row7_col4\" class=\"data row7 col4\" >0.320955</td>\n",
       "            </tr>\n",
       "            <tr>\n",
       "                        <th id=\"T_78e83b7c_0acc_11eb_891c_a4d18cdfdb06level0_row8\" class=\"row_heading level0 row8\" >Stelasyn</th>\n",
       "                        <td id=\"T_78e83b7c_0acc_11eb_891c_a4d18cdfdb06row8_col0\" class=\"data row8 col0\" >54.233149</td>\n",
       "                        <td id=\"T_78e83b7c_0acc_11eb_891c_a4d18cdfdb06row8_col1\" class=\"data row8 col1\" >52.431737</td>\n",
       "                        <td id=\"T_78e83b7c_0acc_11eb_891c_a4d18cdfdb06row8_col2\" class=\"data row8 col2\" >59.450562</td>\n",
       "                        <td id=\"T_78e83b7c_0acc_11eb_891c_a4d18cdfdb06row8_col3\" class=\"data row8 col3\" >7.710419</td>\n",
       "                        <td id=\"T_78e83b7c_0acc_11eb_891c_a4d18cdfdb06row8_col4\" class=\"data row8 col4\" >0.573111</td>\n",
       "            </tr>\n",
       "            <tr>\n",
       "                        <th id=\"T_78e83b7c_0acc_11eb_891c_a4d18cdfdb06level0_row9\" class=\"row_heading level0 row9\" >Zoniferol</th>\n",
       "                        <td id=\"T_78e83b7c_0acc_11eb_891c_a4d18cdfdb06row9_col0\" class=\"data row9 col0\" >53.236507</td>\n",
       "                        <td id=\"T_78e83b7c_0acc_11eb_891c_a4d18cdfdb06row9_col1\" class=\"data row9 col1\" >51.818479</td>\n",
       "                        <td id=\"T_78e83b7c_0acc_11eb_891c_a4d18cdfdb06row9_col2\" class=\"data row9 col2\" >48.533355</td>\n",
       "                        <td id=\"T_78e83b7c_0acc_11eb_891c_a4d18cdfdb06row9_col3\" class=\"data row9 col3\" >6.966589</td>\n",
       "                        <td id=\"T_78e83b7c_0acc_11eb_891c_a4d18cdfdb06row9_col4\" class=\"data row9 col4\" >0.516398</td>\n",
       "            </tr>\n",
       "    </tbody></table>"
      ],
      "text/plain": [
       "<pandas.io.formats.style.Styler at 0x7fe33861bcd0>"
      ]
     },
     "execution_count": 928,
     "metadata": {},
     "output_type": "execute_result"
    }
   ],
   "source": [
    "#Summary Statistics\n",
    "\n",
    "# Generate a summary statistics table of mean, median, variance, standard deviation, and SEM of the tumor volume for each regimen\n",
    "\n",
    "regimen_mean = tumor_mean = data_merge.groupby(\"Drug Regimen\")[\"Tumor Volume (mm3)\"].mean()\n",
    "regimen_median = tumor_mean = data_merge.groupby(\"Drug Regimen\")[\"Tumor Volume (mm3)\"].median()\n",
    "regimen_variance = tumor_mean = data_merge.groupby(\"Drug Regimen\")[\"Tumor Volume (mm3)\"].var()\n",
    "regimen_std = tumor_mean = data_merge.groupby(\"Drug Regimen\")[\"Tumor Volume (mm3)\"].std()\n",
    "regimen_sem = tumor_mean = data_merge.groupby(\"Drug Regimen\")[\"Tumor Volume (mm3)\"].sem()\n",
    "\n",
    "# This method is the most straighforward, creating multiple series and putting them all together at the end.\n",
    "\n",
    "summary_df = pd.DataFrame({\"Mean\": regimen_mean,\n",
    "                          \"Median\": regimen_median,\n",
    "                          \"Variance\": regimen_variance,\n",
    "                          \"Standard Deviation\": regimen_std,\n",
    "                          \"SEM\": regimen_sem})\n",
    "\n",
    "#Formatting table\n",
    "summary_df.style.set_properties(**{'text-align': 'left','border-color':'Black','border-width':'thin','border-style':'solid'}) \\\n",
    "                  .set_table_styles([{'selector':'th','props':[('border','thin solid'),('text-align','left')]}])"
   ]
  },
  {
   "cell_type": "code",
   "execution_count": 929,
   "metadata": {
    "scrolled": false
   },
   "outputs": [
    {
     "data": {
      "image/png": "[encoded data removed]",
      "text/plain": [
       "<Figure size 576x288 with 1 Axes>"
      ]
     },
     "metadata": {
      "needs_background": "light"
     },
     "output_type": "display_data"
    }
   ],
   "source": [
    "# Generate a bar plot showing the total number of mice for each treatment throughout the course of the study using pandas. \n",
    "total_mice_regime = data_merge.groupby(\"Drug Regimen\")[\"Mouse ID\"].nunique()\n",
    "total_mice = pd.DataFrame({\"Count\": total_mice_regime})\n",
    "#Bar plot\n",
    "total_mice.plot(kind=\"bar\", figsize=(8,4))\n",
    "plt.xlabel(\"Drug Regimen\")\n",
    "plt.ylabel(\"Mouse Count\")\n",
    "plt.title(\"Total mice per treatment\")\n",
    "plt.ylim(0,30)\n",
    "plt.tight_layout()\n",
    "plt.show()\n"
   ]
  },
  {
   "cell_type": "code",
   "execution_count": 930,
   "metadata": {
    "scrolled": false
   },
   "outputs": [
    {
     "data": {
      "image/png": "[encoded data removed]",
      "text/plain": [
       "<Figure size 576x288 with 1 Axes>"
      ]
     },
     "metadata": {
      "needs_background": "light"
     },
     "output_type": "display_data"
    }
   ],
   "source": [
    "# Generate a bar plot showing the total number of mice for each treatment throughout the course of the study using pyplot.\n",
    "\n",
    "#total_mice\n",
    "y_axis = total_mice[\"Count\"]\n",
    "x_axis = list(total_mice.index)\n",
    "plt.figure(figsize=(8,4))\n",
    "plt.bar(x_axis,y_axis)\n",
    "plt.xticks(rotation='vertical')\n",
    "plt.xlabel(\"Drug Regimen\")\n",
    "plt.ylabel(\"Mouse Count\")\n",
    "plt.title(\"Total mice per treatment\")\n",
    "plt.tight_layout()\n",
    "plt.show()\n"
   ]
  },
  {
   "cell_type": "code",
   "execution_count": 931,
   "metadata": {
    "scrolled": false
   },
   "outputs": [
    {
     "data": {
      "image/png": "[encoded data removed]",
      "text/plain": [
       "<Figure size 432x288 with 1 Axes>"
      ]
     },
     "metadata": {},
     "output_type": "display_data"
    }
   ],
   "source": [
    "# Generate a pie plot showing the distribution of female versus male mice using pandas\n",
    "total_gender = pd.DataFrame(data_merge.groupby([\"Sex\"]).count()).reset_index()\n",
    "total_gender = total_gender[[\"Sex\", \"Mouse ID\"]]\n",
    "total_gender = total_gender.rename(columns={\"Mouse ID\": \"Count\"})\n",
    "total_gender.plot(kind=\"pie\", y = \"Count\",explode=None, labels= total_gender[\"Sex\"], startangle=180, autopct=\"%1.1f%%\",legend=False)\n",
    "plt.show()"
   ]
  },
  {
   "cell_type": "code",
   "execution_count": 932,
   "metadata": {
    "scrolled": true
   },
   "outputs": [
    {
     "data": {
      "image/png": "[encoded data removed]",
      "text/plain": [
       "<Figure size 432x288 with 1 Axes>"
      ]
     },
     "metadata": {},
     "output_type": "display_data"
    }
   ],
   "source": [
    "# Generate a pie plot showing the distribution of female versus male mice using pyplot\n",
    "total_gender_pie = pd.DataFrame(data_merge.groupby([\"Sex\"]).count()).reset_index()\n",
    "total_gender_pie = total_gender_pie[[\"Sex\", \"Mouse ID\"]]\n",
    "labels = total_gender_pie[\"Sex\"]\n",
    "count = total_gender_pie[\"Mouse ID\"]\n",
    "colors = [\"tab:blue\", \"tab:orange\"]\n",
    "explode = [0,0]\n",
    "plot = plt.pie(count,explode=explode, labels=labels, colors=colors, autopct=\"%1.1f%%\", startangle=90)\n"
   ]
  },
  {
   "cell_type": "code",
   "execution_count": 933,
   "metadata": {},
   "outputs": [
    {
     "data": {
      "text/html": [
       "<div>\n",
       "<style scoped>\n",
       "    .dataframe tbody tr th:only-of-type {\n",
       "        vertical-align: middle;\n",
       "    }\n",
       "\n",
       "    .dataframe tbody tr th {\n",
       "        vertical-align: top;\n",
       "    }\n",
       "\n",
       "    .dataframe thead th {\n",
       "        text-align: right;\n",
       "    }\n",
       "</style>\n",
       "<table border=\"1\" class=\"dataframe\">\n",
       "  <thead>\n",
       "    <tr style=\"text-align: right;\">\n",
       "      <th></th>\n",
       "      <th>Mouse ID</th>\n",
       "      <th>Drug Regimen</th>\n",
       "      <th>Sex</th>\n",
       "      <th>Age_months</th>\n",
       "      <th>Weight (g)</th>\n",
       "      <th>Timepoint</th>\n",
       "      <th>Tumor Volume (mm3)</th>\n",
       "      <th>Metastatic Sites</th>\n",
       "    </tr>\n",
       "  </thead>\n",
       "  <tbody>\n",
       "    <tr>\n",
       "      <th>0</th>\n",
       "      <td>k403</td>\n",
       "      <td>Ramicane</td>\n",
       "      <td>Male</td>\n",
       "      <td>21</td>\n",
       "      <td>16</td>\n",
       "      <td>0</td>\n",
       "      <td>45.000000</td>\n",
       "      <td>0</td>\n",
       "    </tr>\n",
       "    <tr>\n",
       "      <th>1</th>\n",
       "      <td>k403</td>\n",
       "      <td>Ramicane</td>\n",
       "      <td>Male</td>\n",
       "      <td>21</td>\n",
       "      <td>16</td>\n",
       "      <td>5</td>\n",
       "      <td>38.825898</td>\n",
       "      <td>0</td>\n",
       "    </tr>\n",
       "    <tr>\n",
       "      <th>2</th>\n",
       "      <td>k403</td>\n",
       "      <td>Ramicane</td>\n",
       "      <td>Male</td>\n",
       "      <td>21</td>\n",
       "      <td>16</td>\n",
       "      <td>10</td>\n",
       "      <td>35.014271</td>\n",
       "      <td>1</td>\n",
       "    </tr>\n",
       "    <tr>\n",
       "      <th>3</th>\n",
       "      <td>k403</td>\n",
       "      <td>Ramicane</td>\n",
       "      <td>Male</td>\n",
       "      <td>21</td>\n",
       "      <td>16</td>\n",
       "      <td>15</td>\n",
       "      <td>34.223992</td>\n",
       "      <td>1</td>\n",
       "    </tr>\n",
       "    <tr>\n",
       "      <th>4</th>\n",
       "      <td>k403</td>\n",
       "      <td>Ramicane</td>\n",
       "      <td>Male</td>\n",
       "      <td>21</td>\n",
       "      <td>16</td>\n",
       "      <td>20</td>\n",
       "      <td>32.997729</td>\n",
       "      <td>1</td>\n",
       "    </tr>\n",
       "    <tr>\n",
       "      <th>...</th>\n",
       "      <td>...</td>\n",
       "      <td>...</td>\n",
       "      <td>...</td>\n",
       "      <td>...</td>\n",
       "      <td>...</td>\n",
       "      <td>...</td>\n",
       "      <td>...</td>\n",
       "      <td>...</td>\n",
       "    </tr>\n",
       "    <tr>\n",
       "      <th>1868</th>\n",
       "      <td>z581</td>\n",
       "      <td>Infubinol</td>\n",
       "      <td>Female</td>\n",
       "      <td>24</td>\n",
       "      <td>25</td>\n",
       "      <td>25</td>\n",
       "      <td>54.316407</td>\n",
       "      <td>2</td>\n",
       "    </tr>\n",
       "    <tr>\n",
       "      <th>1869</th>\n",
       "      <td>z581</td>\n",
       "      <td>Infubinol</td>\n",
       "      <td>Female</td>\n",
       "      <td>24</td>\n",
       "      <td>25</td>\n",
       "      <td>30</td>\n",
       "      <td>56.286750</td>\n",
       "      <td>2</td>\n",
       "    </tr>\n",
       "    <tr>\n",
       "      <th>1870</th>\n",
       "      <td>z581</td>\n",
       "      <td>Infubinol</td>\n",
       "      <td>Female</td>\n",
       "      <td>24</td>\n",
       "      <td>25</td>\n",
       "      <td>35</td>\n",
       "      <td>58.628399</td>\n",
       "      <td>3</td>\n",
       "    </tr>\n",
       "    <tr>\n",
       "      <th>1871</th>\n",
       "      <td>z581</td>\n",
       "      <td>Infubinol</td>\n",
       "      <td>Female</td>\n",
       "      <td>24</td>\n",
       "      <td>25</td>\n",
       "      <td>40</td>\n",
       "      <td>60.053740</td>\n",
       "      <td>3</td>\n",
       "    </tr>\n",
       "    <tr>\n",
       "      <th>1872</th>\n",
       "      <td>z581</td>\n",
       "      <td>Infubinol</td>\n",
       "      <td>Female</td>\n",
       "      <td>24</td>\n",
       "      <td>25</td>\n",
       "      <td>45</td>\n",
       "      <td>62.754451</td>\n",
       "      <td>3</td>\n",
       "    </tr>\n",
       "  </tbody>\n",
       "</table>\n",
       "<p>814 rows × 8 columns</p>\n",
       "</div>"
      ],
      "text/plain": [
       "     Mouse ID Drug Regimen     Sex  Age_months  Weight (g)  Timepoint  \\\n",
       "0        k403     Ramicane    Male          21          16          0   \n",
       "1        k403     Ramicane    Male          21          16          5   \n",
       "2        k403     Ramicane    Male          21          16         10   \n",
       "3        k403     Ramicane    Male          21          16         15   \n",
       "4        k403     Ramicane    Male          21          16         20   \n",
       "...       ...          ...     ...         ...         ...        ...   \n",
       "1868     z581    Infubinol  Female          24          25         25   \n",
       "1869     z581    Infubinol  Female          24          25         30   \n",
       "1870     z581    Infubinol  Female          24          25         35   \n",
       "1871     z581    Infubinol  Female          24          25         40   \n",
       "1872     z581    Infubinol  Female          24          25         45   \n",
       "\n",
       "      Tumor Volume (mm3)  Metastatic Sites  \n",
       "0              45.000000                 0  \n",
       "1              38.825898                 0  \n",
       "2              35.014271                 1  \n",
       "3              34.223992                 1  \n",
       "4              32.997729                 1  \n",
       "...                  ...               ...  \n",
       "1868           54.316407                 2  \n",
       "1869           56.286750                 2  \n",
       "1870           58.628399                 3  \n",
       "1871           60.053740                 3  \n",
       "1872           62.754451                 3  \n",
       "\n",
       "[814 rows x 8 columns]"
      ]
     },
     "execution_count": 933,
     "metadata": {},
     "output_type": "execute_result"
    }
   ],
   "source": [
    "drug_regimen = [\"Capomulin\", \"Ramicane\", \"Infubinol\",\"Ceftamin\"]\n",
    "\n",
    "#for x in drug_regimen:\n",
    "filtered_df = data_merge.loc[data_merge[\"Drug Regimen\"].isin(drug_regimen)]\n",
    "filtered_df"
   ]
  },
  {
   "cell_type": "code",
   "execution_count": 934,
   "metadata": {
    "scrolled": true
   },
   "outputs": [
    {
     "name": "stdout",
     "output_type": "stream",
     "text": [
      "The lower quartile of Capomulin volume is: 32.37735684\n",
      "The upper quartile of Capomulin volume is: 40.1592203\n",
      "The interquartile range of Capomulin volume is: 7.781863460000004\n",
      "Values below 20.70456164999999 could be outliers.\n",
      "Values above 51.83201549 could be outliers.\n"
     ]
    }
   ],
   "source": [
    "# Calculate the final tumor volume of each mouse across four of the treatment regimens:  \n",
    "# Capomulin, Ramicane, Infubinol, and Ceftamin\n",
    "# Start by getting the last (greatest) timepoint for each mouse\n",
    "# Merge this group df with the original dataframe to get the tumor volume at the last timepoint\n",
    "\n",
    "capomulin_df = data_merge.loc[data_merge[\"Drug Regimen\"]== \"Capomulin\"]\n",
    "\n",
    "# Capomulin\n",
    "capomulin_duplicate = capomulin_df.drop_duplicates(subset=\"Mouse ID\", keep=\"last\")\n",
    "last_timepoint_capomulin = capomulin_duplicate.groupby(\"Mouse ID\").max()[\"Timepoint\"]\n",
    "capomulin_vol = pd.DataFrame(last_timepoint_capomulin)\n",
    "capomulin_vol = pd.merge(capomulin_vol,data_merge, on=(\"Mouse ID\",\"Timepoint\"), how=\"inner\")\n",
    "capomulin_vol = capomulin_vol.sort_values(\"Timepoint\", ascending=False)\n",
    "\n",
    "#Calculate the IQR and Quartlies for Capomulin:\n",
    "quartiles_cap = capomulin_vol[\"Tumor Volume (mm3)\"].quantile([.25,.5,.75])\n",
    "quartiles_lower_cap = quartiles_cap[0.25]\n",
    "quartiles_upper_cap = quartiles_cap[0.75]\n",
    "iqr_cap = quartiles_upper_cap-quartiles_lower_cap\n",
    "\n",
    "# Determine upper and lower bounds\n",
    "lower_bound_cap = quartiles_lower_cap - (1.5*iqr)\n",
    "upper_bound_cap = quartiles_upper_cap + (1.5*iqr)\n",
    "\n",
    "outliers_cap = capomulin_vol.loc[(capomulin_vol[\"Tumor Volume (mm3)\"] > upper_bound_cap) | \\\n",
    "                           (capomulin_vol[\"Tumor Volume (mm3)\"] < lower_bound_cap)]\n",
    "\n",
    "print(f\"The lower quartile of Capomulin volume is: {quartiles_lower_cap}\")\n",
    "print(f\"The upper quartile of Capomulin volume is: {quartiles_upper_cap}\")\n",
    "print(f\"The interquartile range of Capomulin volume is: {iqr_cap}\")\n",
    "print(f\"Values below {lower_bound_cap} could be outliers.\")\n",
    "print(f\"Values above {upper_bound_cap} could be outliers.\")"
   ]
  },
  {
   "cell_type": "code",
   "execution_count": 935,
   "metadata": {},
   "outputs": [
    {
     "name": "stdout",
     "output_type": "stream",
     "text": [
      "The lower quartile of Ramicane volume is: 31.56046955\n",
      "The upper quartile of Ramicane volume is: 40.65900627\n",
      "The interquartile range of Ramicane volume is: 9.098536719999998\n",
      "Values below 17.912664470000003 could be outliers.\n",
      "Values above 54.30681135 could be outliers.\n"
     ]
    }
   ],
   "source": [
    "# Calculate the final tumor volume of each mouse across four of the treatment regimens:  \n",
    "# Capomulin, Ramicane, Infubinol, and Ceftamin\n",
    "# Start by getting the last (greatest) timepoint for each mouse\n",
    "# Merge this group df with the original dataframe to get the tumor volume at the last timepoint\n",
    "\n",
    "ramicane_df = data_merge.loc[data_merge[\"Drug Regimen\"]== \"Ramicane\"]\n",
    "\n",
    "# Ramicane\n",
    "ramicane_duplicate = ramicane_df.drop_duplicates(subset=\"Mouse ID\", keep=\"last\")\n",
    "last_timepoint_capomulin = ramicane_duplicate.groupby(\"Mouse ID\").max()[\"Timepoint\"]\n",
    "ramicane_vol = pd.DataFrame(last_timepoint_ramicane)\n",
    "ramicane_vol = pd.merge(ramicane_vol,data_merge, on=(\"Mouse ID\",\"Timepoint\"), how=\"inner\")\n",
    "ramicane_vol = ramicane_vol.sort_values(\"Timepoint\", ascending=False)\n",
    "\n",
    "#Calculate the IQR and Quartlies for Ramicane:\n",
    "quartiles_rami = ramicane_vol[\"Tumor Volume (mm3)\"].quantile([.25,.5,.75])\n",
    "quartiles_lower_rami = quartiles_rami[0.25]\n",
    "quartiles_upper_rami = quartiles_rami[0.75]\n",
    "iqr_rami = quartiles_upper_rami-quartiles_lower_rami\n",
    "\n",
    "# Determine upper and lower bounds\n",
    "lower_bound_rami = quartiles_lower_rami - (1.5*iqr_rami)\n",
    "upper_bound_rami = quartiles_upper_rami + (1.5*iqr_rami)\n",
    "\n",
    "outliers_rami = ramicane_vol.loc[(ramicane_vol[\"Tumor Volume (mm3)\"] > upper_bound_rami) | \\\n",
    "                           (ramicane_vol[\"Tumor Volume (mm3)\"] < lower_bound_rami)]\n",
    "\n",
    "print(f\"The lower quartile of Ramicane volume is: {quartiles_lower_rami}\")\n",
    "print(f\"The upper quartile of Ramicane volume is: {quartiles_upper_rami}\")\n",
    "print(f\"The interquartile range of Ramicane volume is: {iqr_rami}\")\n",
    "print(f\"Values below {lower_bound_rami} could be outliers.\")\n",
    "print(f\"Values above {upper_bound_rami} could be outliers.\")"
   ]
  },
  {
   "cell_type": "code",
   "execution_count": 936,
   "metadata": {},
   "outputs": [
    {
     "name": "stdout",
     "output_type": "stream",
     "text": [
      "The lower quartile of Infubinol volume is: 54.04860769\n",
      "The upper quartile of Infubinol volume is: 65.52574285\n",
      "The interquartile range of Infubinol volume is: 11.477135160000003\n",
      "Values below 36.83290494999999 could be outliers.\n",
      "Values above 82.74144559000001 could be outliers.\n"
     ]
    }
   ],
   "source": [
    "# Calculate the final tumor volume of each mouse across four of the treatment regimens:  \n",
    "# Capomulin, Ramicane, Infubinol, and Ceftamin\n",
    "# Start by getting the last (greatest) timepoint for each mouse\n",
    "# Merge this group df with the original dataframe to get the tumor volume at the last timepoint\n",
    "\n",
    "infubinol_df = data_merge.loc[data_merge[\"Drug Regimen\"]== \"Infubinol\"]\n",
    "\n",
    "# Infubinol\n",
    "infubinol_duplicate = infubinol_df.drop_duplicates(subset=\"Mouse ID\", keep=\"last\")\n",
    "last_timepoint_infubinol = infubinol_duplicate.groupby(\"Mouse ID\").max()[\"Timepoint\"]\n",
    "infubinol_vol = pd.DataFrame(last_timepoint_infubinol)\n",
    "infubinol_vol = pd.merge(infubinol_vol,data_merge, on=(\"Mouse ID\",\"Timepoint\"), how=\"inner\")\n",
    "infubinol_vol = infubinol_vol.sort_values(\"Timepoint\", ascending=False)\n",
    "\n",
    "#Calculate the IQR and Quartlies for Infubinol:\n",
    "quartiles_inf = infubinol_vol[\"Tumor Volume (mm3)\"].quantile([.25,.5,.75])\n",
    "quartiles_lower_inf = quartiles_inf[0.25]\n",
    "quartiles_upper_inf = quartiles_inf[0.75]\n",
    "iqr_inf = quartiles_upper_inf-quartiles_lower_inf\n",
    "\n",
    "# Determine upper and lower bounds\n",
    "lower_bound_inf = quartiles_lower_inf - (1.5*iqr_inf)\n",
    "upper_bound_inf = quartiles_upper_inf + (1.5*iqr_inf)\n",
    "\n",
    "outliers_inf = infubinol_vol.loc[(infubinol_vol[\"Tumor Volume (mm3)\"] > upper_bound_inf) | \\\n",
    "                           (infubinol_vol[\"Tumor Volume (mm3)\"] < lower_bound_inf)]\n",
    "\n",
    "print(f\"The lower quartile of Infubinol volume is: {quartiles_lower_inf}\")\n",
    "print(f\"The upper quartile of Infubinol volume is: {quartiles_upper_inf}\")\n",
    "print(f\"The interquartile range of Infubinol volume is: {iqr_inf}\")\n",
    "print(f\"Values below {lower_bound_inf} could be outliers.\")\n",
    "print(f\"Values above {upper_bound_inf} could be outliers.\")"
   ]
  },
  {
   "cell_type": "code",
   "execution_count": 937,
   "metadata": {},
   "outputs": [
    {
     "name": "stdout",
     "output_type": "stream",
     "text": [
      "The lower quartile of Ceftamin volume is: 48.72207785\n",
      "The upper quartile of Ceftamin volume is: 64.29983003\n",
      "The interquartile range of Ceftamin volume is: 15.577752179999997\n",
      "Values below 25.355449580000002 could be outliers.\n",
      "Values above 87.66645829999999 could be outliers.\n"
     ]
    }
   ],
   "source": [
    "# Calculate the final tumor volume of each mouse across four of the treatment regimens:  \n",
    "# Capomulin, Ramicane, Infubinol, and Ceftamin\n",
    "# Start by getting the last (greatest) timepoint for each mouse\n",
    "# Merge this group df with the original dataframe to get the tumor volume at the last timepoint\n",
    "\n",
    "ceftamin_df = data_merge.loc[data_merge[\"Drug Regimen\"]== \"Ceftamin\"]\n",
    "\n",
    "# Ceftamin\n",
    "ceftamin_duplicate = ceftamin_df.drop_duplicates(subset=\"Mouse ID\", keep=\"last\")\n",
    "last_timepoint_ceftamin = ceftamin_duplicate.groupby(\"Mouse ID\").max()[\"Timepoint\"]\n",
    "ceftamin_vol = pd.DataFrame(last_timepoint_ceftamin)\n",
    "ceftamin_vol = pd.merge(ceftamin_vol,data_merge, on=(\"Mouse ID\",\"Timepoint\"), how=\"inner\")\n",
    "ceftamin_vol = ceftamin_vol.sort_values(\"Timepoint\", ascending=False)\n",
    "\n",
    "#Calculate the IQR and Quartlies for Ceftamin:\n",
    "quartiles_ceft = ceftamin_vol[\"Tumor Volume (mm3)\"].quantile([.25,.5,.75])\n",
    "quartiles_lower_ceft = quartiles_ceft[0.25]\n",
    "quartiles_upper_ceft = quartiles_ceft[0.75]\n",
    "iqr_ceft = quartiles_upper_ceft-quartiles_lower_ceft\n",
    "\n",
    "# Determine upper and lower bounds\n",
    "lower_bound_ceft = quartiles_lower_ceft - (1.5*iqr_ceft)\n",
    "upper_bound_ceft = quartiles_upper_ceft + (1.5*iqr_ceft)\n",
    "\n",
    "outliers_ceft = ceftamin_vol.loc[(ceftamin_vol[\"Tumor Volume (mm3)\"] > upper_bound_ceft) | \\\n",
    "                           (ceftamin_vol[\"Tumor Volume (mm3)\"] < lower_bound_ceft)]\n",
    "\n",
    "print(f\"The lower quartile of Ceftamin volume is: {quartiles_lower_ceft}\")\n",
    "print(f\"The upper quartile of Ceftamin volume is: {quartiles_upper_ceft}\")\n",
    "print(f\"The interquartile range of Ceftamin volume is: {iqr_ceft}\")\n",
    "print(f\"Values below {lower_bound_ceft} could be outliers.\")\n",
    "print(f\"Values above {upper_bound_ceft} could be outliers.\")"
   ]
  },
  {
   "cell_type": "code",
   "execution_count": 939,
   "metadata": {},
   "outputs": [
    {
     "data": {
      "image/png": "[encoded data removed]",
      "text/plain": [
       "<Figure size 648x432 with 1 Axes>"
      ]
     },
     "metadata": {
      "needs_background": "light"
     },
     "output_type": "display_data"
    }
   ],
   "source": [
    "#Combining the data in to the list:\n",
    "capomulin_list=capomulin_vol['Tumor Volume (mm3)']\n",
    "ramicane_list=ramicane_vol['Tumor Volume (mm3)']\n",
    "infubinol_list=infubinol_vol['Tumor Volume (mm3)']\n",
    "ceftamin_list=ceftamin_vol['Tumor Volume (mm3)']\n",
    "\n",
    "tumor_volume_list = [capomulin_list,ramicane_list,infubinol_list,ceftamin_list]\n",
    "\n",
    "# Outliers plot of the final tumor volumes:\n",
    "fig, ax=plt.subplots(1, figsize=(9, 6))\n",
    "box_plot=ax.boxplot(tumor_volume_list, patch_artist=True)\n",
    "ax.set_title('Potential Outliers of The Final Tumor Volumes For Top Four Treatment Regimens', fontsize=20)\n",
    "ax.set_ylabel('Final Tumor Volume (mm3)', fontsize=16, color='black')\n",
    "ax.set_xticklabels(['Capomulin', 'Ramicane', 'Infubinol', 'Ceftamin'], fontsize=16, color='black')\n",
    "plt.show()"
   ]
  },
  {
   "cell_type": "code",
   "execution_count": 940,
   "metadata": {},
   "outputs": [
    {
     "data": {
      "image/png": "[encoded data removed]",
      "text/plain": [
       "<Figure size 432x288 with 1 Axes>"
      ]
     },
     "metadata": {
      "needs_background": "light"
     },
     "output_type": "display_data"
    }
   ],
   "source": [
    "#Line and Scatter Plots\n",
    "# Generate a line plot of time point versus tumor volume for a mouse treated with Capomulin\n",
    "capomulin_df = data_merge.loc[data_merge[\"Drug Regimen\"]== \"Capomulin\"]\n",
    "capomulin_mouse= capomulin_df.loc[capomulin_df[\"Mouse ID\"] == \"s185\"]\n",
    "capomulin_mouse.plot(\"Timepoint\", \"Tumor Volume (mm3)\",color=\"red\", label=\"Tumor Volume (mm3)\")\n",
    "plt.title(\"Time Point Vs Tumor Volume for Mouse: s185 \")\n",
    "plt.xlabel(\"Time point\")\n",
    "plt.ylabel(\"Tumor Volume (mm3)\")\n",
    "plt.grid()\n",
    "plt.show()"
   ]
  },
  {
   "cell_type": "code",
   "execution_count": 941,
   "metadata": {},
   "outputs": [
    {
     "data": {
      "image/png": "[encoded data removed]",
      "text/plain": [
       "<Figure size 432x288 with 1 Axes>"
      ]
     },
     "metadata": {
      "needs_background": "light"
     },
     "output_type": "display_data"
    }
   ],
   "source": [
    "# Generate a scatter plot of mouse weight versus average tumor volume for the Capomulin regimen\n",
    "capomulin_mouse_weight = capomulin_df.groupby(\"Mouse ID\")\n",
    "cap_weight_ave = capomulin_mouse_weight[\"Weight (g)\"].mean()\n",
    "cap_tumor_ave = capomulin_mouse_weight[\"Tumor Volume (mm3)\"].mean()\n",
    "cap_df = pd.DataFrame({\"Weight (g)\": cap_weight_ave,\n",
    "                     \"Tumor Volume (mm3)\": cap_tumor_ave})\n",
    "plt.scatter(cap_df[\"Weight (g)\"], cap_df[\"Tumor Volume (mm3)\"])\n",
    "plt.xlabel(\"Weight (g)\")\n",
    "plt.ylabel(\"Tumor Volume (mm3)\")\n",
    "plt.suptitle(\"Capomulin : Mouse Weight Vs Average Tumor Volume\")\n",
    "plt.show()"
   ]
  },
  {
   "cell_type": "code",
   "execution_count": 942,
   "metadata": {},
   "outputs": [
    {
     "name": "stdout",
     "output_type": "stream",
     "text": [
      "The correlation coefficient between mouse weight and average tumor is 0.84\n"
     ]
    }
   ],
   "source": [
    "#Correlation and Regression\n",
    "# for mouse weight and average tumor volume for the Capomulin regimen\n",
    "correlation = st.pearsonr(cap_df[\"Weight (g)\"],cap_df[\"Tumor Volume (mm3)\"])\n",
    "print(f\"The correlation coefficient between mouse weight and average tumor is {round(correlation[0],2)}\")"
   ]
  },
  {
   "cell_type": "code",
   "execution_count": 943,
   "metadata": {},
   "outputs": [
    {
     "name": "stdout",
     "output_type": "stream",
     "text": [
      "The r-squared is: 0.8419363424694718\n",
      "The equation of the regression line is: y = 0.95x + 21.55\n"
     ]
    },
    {
     "data": {
      "image/png": "[encoded data removed]",
      "text/plain": [
       "<Figure size 432x288 with 1 Axes>"
      ]
     },
     "metadata": {
      "needs_background": "light"
     },
     "output_type": "display_data"
    }
   ],
   "source": [
    "# for mouse weight and average tumor volume for the Capomulin regimen\n",
    "# Calculate the correlation coefficient and linear regression model \n",
    "x_values = cap_df[\"Weight (g)\"]\n",
    "y_values = cap_df[\"Tumor Volume (mm3)\"]\n",
    "(slope, intercept, rvalue, pvalue, stderr) = linregress(x_values, y_values)\n",
    "regress_values = x_values * slope + intercept\n",
    "line_eq = f'y = {str(round(slope,2))}x + {str(round(intercept,2))}'\n",
    "plt.scatter(x_values,y_values)\n",
    "plt.plot(x_values,regress_values,\"r-\")\n",
    "plt.annotate(line_eq,(17,37),fontsize=15,color=\"black\")\n",
    "plt.title(\"Capomulin : Mouse Weight Vs Average Tumor Volume\")\n",
    "plt.xlabel(\"Weight (g)\")\n",
    "plt.ylabel(\"Tumor Volume (mm3)\")\n",
    "print(f\"The r-squared is: {rvalue}\")\n",
    "print(f\"The equation of the regression line is: {line_eq}\")"
   ]
  }
 ],
 "metadata": {
  "kernelspec": {
   "display_name": "Python 3",
   "language": "python",
   "name": "python3"
  },
  "language_info": {
   "codemirror_mode": {
    "name": "ipython",
    "version": 3
   },
   "file_extension": ".py",
   "mimetype": "text/x-python",
   "name": "python",
   "nbconvert_exporter": "python",
   "pygments_lexer": "ipython3",
   "version": "3.7.6"
  }
 },
 "nbformat": 4,
 "nbformat_minor": 4
}
